{
  "nbformat": 4,
  "nbformat_minor": 0,
  "metadata": {
    "colab": {
      "name": "NYT_model.ipynb",
      "provenance": [],
      "collapsed_sections": []
    },
    "kernelspec": {
      "name": "python3",
      "display_name": "Python 3"
    }
  },
  "cells": [
    {
      "cell_type": "code",
      "metadata": {
        "colab": {
          "base_uri": "https://localhost:8080/",
          "height": 1000
        },
        "id": "Q5keTOrdSE3m",
        "outputId": "9d37278a-1e30-48a4-8e8d-ae62cbe7f10a"
      },
      "source": [
        "!pip install tensorflow==1.15.5\n",
        "import tensorflow as tf\n",
        "print(tf.__version__)"
      ],
      "execution_count": null,
      "outputs": [
        {
          "output_type": "stream",
          "text": [
            "Collecting tensorflow==1.15.5\n",
            "\u001b[?25l  Downloading https://files.pythonhosted.org/packages/9a/51/99abd43185d94adaaaddf8f44a80c418a91977924a7bc39b8dacd0c495b0/tensorflow-1.15.5-cp37-cp37m-manylinux2010_x86_64.whl (110.5MB)\n",
            "\u001b[K     |████████████████████████████████| 110.5MB 65kB/s \n",
            "\u001b[?25hRequirement already satisfied: grpcio>=1.8.6 in /usr/local/lib/python3.7/dist-packages (from tensorflow==1.15.5) (1.32.0)\n",
            "Requirement already satisfied: astor>=0.6.0 in /usr/local/lib/python3.7/dist-packages (from tensorflow==1.15.5) (0.8.1)\n",
            "Collecting keras-applications>=1.0.8\n",
            "\u001b[?25l  Downloading https://files.pythonhosted.org/packages/71/e3/19762fdfc62877ae9102edf6342d71b28fbfd9dea3d2f96a882ce099b03f/Keras_Applications-1.0.8-py3-none-any.whl (50kB)\n",
            "\u001b[K     |████████████████████████████████| 51kB 8.1MB/s \n",
            "\u001b[?25hRequirement already satisfied: wheel>=0.26; python_version >= \"3\" in /usr/local/lib/python3.7/dist-packages (from tensorflow==1.15.5) (0.36.2)\n",
            "Requirement already satisfied: h5py<=2.10.0 in /usr/local/lib/python3.7/dist-packages (from tensorflow==1.15.5) (2.10.0)\n",
            "Requirement already satisfied: opt-einsum>=2.3.2 in /usr/local/lib/python3.7/dist-packages (from tensorflow==1.15.5) (3.3.0)\n",
            "Requirement already satisfied: six>=1.10.0 in /usr/local/lib/python3.7/dist-packages (from tensorflow==1.15.5) (1.15.0)\n",
            "Requirement already satisfied: protobuf>=3.6.1 in /usr/local/lib/python3.7/dist-packages (from tensorflow==1.15.5) (3.12.4)\n",
            "Collecting tensorboard<1.16.0,>=1.15.0\n",
            "\u001b[?25l  Downloading https://files.pythonhosted.org/packages/1e/e9/d3d747a97f7188f48aa5eda486907f3b345cd409f0a0850468ba867db246/tensorboard-1.15.0-py3-none-any.whl (3.8MB)\n",
            "\u001b[K     |████████████████████████████████| 3.8MB 58.8MB/s \n",
            "\u001b[?25hRequirement already satisfied: google-pasta>=0.1.6 in /usr/local/lib/python3.7/dist-packages (from tensorflow==1.15.5) (0.2.0)\n",
            "Collecting numpy<1.19.0,>=1.16.0\n",
            "\u001b[?25l  Downloading https://files.pythonhosted.org/packages/d6/c6/58e517e8b1fb192725cfa23c01c2e60e4e6699314ee9684a1c5f5c9b27e1/numpy-1.18.5-cp37-cp37m-manylinux1_x86_64.whl (20.1MB)\n",
            "\u001b[K     |████████████████████████████████| 20.1MB 1.2MB/s \n",
            "\u001b[?25hRequirement already satisfied: termcolor>=1.1.0 in /usr/local/lib/python3.7/dist-packages (from tensorflow==1.15.5) (1.1.0)\n",
            "Requirement already satisfied: absl-py>=0.7.0 in /usr/local/lib/python3.7/dist-packages (from tensorflow==1.15.5) (0.12.0)\n",
            "Requirement already satisfied: keras-preprocessing>=1.0.5 in /usr/local/lib/python3.7/dist-packages (from tensorflow==1.15.5) (1.1.2)\n",
            "Collecting tensorflow-estimator==1.15.1\n",
            "\u001b[?25l  Downloading https://files.pythonhosted.org/packages/de/62/2ee9cd74c9fa2fa450877847ba560b260f5d0fb70ee0595203082dafcc9d/tensorflow_estimator-1.15.1-py2.py3-none-any.whl (503kB)\n",
            "\u001b[K     |████████████████████████████████| 512kB 50.4MB/s \n",
            "\u001b[?25hRequirement already satisfied: wrapt>=1.11.1 in /usr/local/lib/python3.7/dist-packages (from tensorflow==1.15.5) (1.12.1)\n",
            "Collecting gast==0.2.2\n",
            "  Downloading https://files.pythonhosted.org/packages/4e/35/11749bf99b2d4e3cceb4d55ca22590b0d7c2c62b9de38ac4a4a7f4687421/gast-0.2.2.tar.gz\n",
            "Requirement already satisfied: setuptools in /usr/local/lib/python3.7/dist-packages (from protobuf>=3.6.1->tensorflow==1.15.5) (56.0.0)\n",
            "Requirement already satisfied: markdown>=2.6.8 in /usr/local/lib/python3.7/dist-packages (from tensorboard<1.16.0,>=1.15.0->tensorflow==1.15.5) (3.3.4)\n",
            "Requirement already satisfied: werkzeug>=0.11.15 in /usr/local/lib/python3.7/dist-packages (from tensorboard<1.16.0,>=1.15.0->tensorflow==1.15.5) (1.0.1)\n",
            "Requirement already satisfied: importlib-metadata; python_version < \"3.8\" in /usr/local/lib/python3.7/dist-packages (from markdown>=2.6.8->tensorboard<1.16.0,>=1.15.0->tensorflow==1.15.5) (3.10.1)\n",
            "Requirement already satisfied: typing-extensions>=3.6.4; python_version < \"3.8\" in /usr/local/lib/python3.7/dist-packages (from importlib-metadata; python_version < \"3.8\"->markdown>=2.6.8->tensorboard<1.16.0,>=1.15.0->tensorflow==1.15.5) (3.7.4.3)\n",
            "Requirement already satisfied: zipp>=0.5 in /usr/local/lib/python3.7/dist-packages (from importlib-metadata; python_version < \"3.8\"->markdown>=2.6.8->tensorboard<1.16.0,>=1.15.0->tensorflow==1.15.5) (3.4.1)\n",
            "Building wheels for collected packages: gast\n",
            "  Building wheel for gast (setup.py) ... \u001b[?25l\u001b[?25hdone\n",
            "  Created wheel for gast: filename=gast-0.2.2-cp37-none-any.whl size=7540 sha256=24d23e1523e45a90ccc109b22d2224e4123c17de0752c02c2cd3bfc4a99cf667\n",
            "  Stored in directory: /root/.cache/pip/wheels/5c/2e/7e/a1d4d4fcebe6c381f378ce7743a3ced3699feb89bcfbdadadd\n",
            "Successfully built gast\n",
            "\u001b[31mERROR: tensorflow-probability 0.12.1 has requirement gast>=0.3.2, but you'll have gast 0.2.2 which is incompatible.\u001b[0m\n",
            "\u001b[31mERROR: datascience 0.10.6 has requirement folium==0.2.1, but you'll have folium 0.8.3 which is incompatible.\u001b[0m\n",
            "\u001b[31mERROR: albumentations 0.1.12 has requirement imgaug<0.2.7,>=0.2.5, but you'll have imgaug 0.2.9 which is incompatible.\u001b[0m\n",
            "Installing collected packages: numpy, keras-applications, tensorboard, tensorflow-estimator, gast, tensorflow\n",
            "  Found existing installation: numpy 1.19.5\n",
            "    Uninstalling numpy-1.19.5:\n",
            "      Successfully uninstalled numpy-1.19.5\n",
            "  Found existing installation: tensorboard 2.4.1\n",
            "    Uninstalling tensorboard-2.4.1:\n",
            "      Successfully uninstalled tensorboard-2.4.1\n",
            "  Found existing installation: tensorflow-estimator 2.4.0\n",
            "    Uninstalling tensorflow-estimator-2.4.0:\n",
            "      Successfully uninstalled tensorflow-estimator-2.4.0\n",
            "  Found existing installation: gast 0.3.3\n",
            "    Uninstalling gast-0.3.3:\n",
            "      Successfully uninstalled gast-0.3.3\n",
            "  Found existing installation: tensorflow 2.4.1\n",
            "    Uninstalling tensorflow-2.4.1:\n",
            "      Successfully uninstalled tensorflow-2.4.1\n",
            "Successfully installed gast-0.2.2 keras-applications-1.0.8 numpy-1.18.5 tensorboard-1.15.0 tensorflow-1.15.5 tensorflow-estimator-1.15.1\n"
          ],
          "name": "stdout"
        },
        {
          "output_type": "display_data",
          "data": {
            "application/vnd.colab-display-data+json": {
              "pip_warning": {
                "packages": [
                  "numpy"
                ]
              }
            }
          },
          "metadata": {
            "tags": []
          }
        },
        {
          "output_type": "stream",
          "text": [
            "1.15.5\n"
          ],
          "name": "stdout"
        }
      ]
    },
    {
      "cell_type": "code",
      "metadata": {
        "id": "Oqg0zdfAa--A",
        "colab": {
          "base_uri": "https://localhost:8080/"
        },
        "outputId": "43fd6323-b13b-491a-81e8-d5c01e8d0746"
      },
      "source": [
        "!pip3 install textgenrnn\n",
        " \n",
        "from google.colab import files\n",
        "\n",
        "import os"
      ],
      "execution_count": null,
      "outputs": [
        {
          "output_type": "stream",
          "text": [
            "Requirement already satisfied: textgenrnn in /usr/local/lib/python3.7/dist-packages (1.4.1)\n",
            "Requirement already satisfied: scikit-learn in /usr/local/lib/python3.7/dist-packages (from textgenrnn) (0.22.2.post1)\n",
            "Requirement already satisfied: h5py in /usr/local/lib/python3.7/dist-packages (from textgenrnn) (2.10.0)\n",
            "Requirement already satisfied: keras>=2.1.5 in /usr/local/lib/python3.7/dist-packages (from textgenrnn) (2.2.4)\n",
            "Requirement already satisfied: numpy>=1.11.0 in /usr/local/lib/python3.7/dist-packages (from scikit-learn->textgenrnn) (1.18.5)\n",
            "Requirement already satisfied: joblib>=0.11 in /usr/local/lib/python3.7/dist-packages (from scikit-learn->textgenrnn) (1.0.1)\n",
            "Requirement already satisfied: scipy>=0.17.0 in /usr/local/lib/python3.7/dist-packages (from scikit-learn->textgenrnn) (1.4.1)\n",
            "Requirement already satisfied: six in /usr/local/lib/python3.7/dist-packages (from h5py->textgenrnn) (1.15.0)\n",
            "Requirement already satisfied: keras-preprocessing>=1.0.5 in /usr/local/lib/python3.7/dist-packages (from keras>=2.1.5->textgenrnn) (1.1.2)\n",
            "Requirement already satisfied: pyyaml in /usr/local/lib/python3.7/dist-packages (from keras>=2.1.5->textgenrnn) (3.13)\n",
            "Requirement already satisfied: keras-applications>=1.0.6 in /usr/local/lib/python3.7/dist-packages (from keras>=2.1.5->textgenrnn) (1.0.8)\n"
          ],
          "name": "stdout"
        }
      ]
    },
    {
      "cell_type": "code",
      "metadata": {
        "colab": {
          "base_uri": "https://localhost:8080/"
        },
        "id": "TWoJcydCcRGq",
        "outputId": "6a250226-706a-41b1-a01a-de36d4c75a0a"
      },
      "source": [
        "from google.colab import drive\n",
        "drive.mount('/content/drive')"
      ],
      "execution_count": null,
      "outputs": [
        {
          "output_type": "stream",
          "text": [
            "Mounted at /content/drive\n"
          ],
          "name": "stdout"
        }
      ]
    },
    {
      "cell_type": "code",
      "metadata": {
        "colab": {
          "base_uri": "https://localhost:8080/"
        },
        "id": "e9KBnoSbcr40",
        "outputId": "3a8ef5c6-c3b4-4349-bccd-89494009236e"
      },
      "source": [
        "%cd /content/drive/My\\ Drive/\n",
        "!mkdir NYT_models"
      ],
      "execution_count": null,
      "outputs": [
        {
          "output_type": "stream",
          "text": [
            "/content/drive/My Drive\n"
          ],
          "name": "stdout"
        }
      ]
    },
    {
      "cell_type": "code",
      "metadata": {
        "colab": {
          "base_uri": "https://localhost:8080/"
        },
        "id": "U1Yp-EC7J_og",
        "outputId": "f23e6916-151f-436b-8865-d83009b6249c"
      },
      "source": [
        "pip uninstall keras "
      ],
      "execution_count": null,
      "outputs": [
        {
          "output_type": "stream",
          "text": [
            "Uninstalling Keras-2.4.3:\n",
            "  Would remove:\n",
            "    /usr/local/lib/python3.7/dist-packages/Keras-2.4.3.dist-info/*\n",
            "    /usr/local/lib/python3.7/dist-packages/docs/*\n",
            "    /usr/local/lib/python3.7/dist-packages/keras/*\n",
            "  Would not remove (might be manually added):\n",
            "    /usr/local/lib/python3.7/dist-packages/docs/md_autogen.py\n",
            "    /usr/local/lib/python3.7/dist-packages/docs/update_docs.py\n",
            "Proceed (y/n)? y\n",
            "  Successfully uninstalled Keras-2.4.3\n"
          ],
          "name": "stdout"
        }
      ]
    },
    {
      "cell_type": "code",
      "metadata": {
        "colab": {
          "base_uri": "https://localhost:8080/"
        },
        "id": "lNnkayF-KAw8",
        "outputId": "f1833095-7730-4558-8f20-d008c1a3621f"
      },
      "source": [
        "pip install keras==2.2.4"
      ],
      "execution_count": null,
      "outputs": [
        {
          "output_type": "stream",
          "text": [
            "Collecting keras==2.2.4\n",
            "\u001b[?25l  Downloading https://files.pythonhosted.org/packages/5e/10/aa32dad071ce52b5502266b5c659451cfd6ffcbf14e6c8c4f16c0ff5aaab/Keras-2.2.4-py2.py3-none-any.whl (312kB)\n",
            "\r\u001b[K     |█                               | 10kB 26.3MB/s eta 0:00:01\r\u001b[K     |██                              | 20kB 16.0MB/s eta 0:00:01\r\u001b[K     |███▏                            | 30kB 14.3MB/s eta 0:00:01\r\u001b[K     |████▏                           | 40kB 13.4MB/s eta 0:00:01\r\u001b[K     |█████▎                          | 51kB 8.9MB/s eta 0:00:01\r\u001b[K     |██████▎                         | 61kB 9.2MB/s eta 0:00:01\r\u001b[K     |███████▍                        | 71kB 9.5MB/s eta 0:00:01\r\u001b[K     |████████▍                       | 81kB 10.6MB/s eta 0:00:01\r\u001b[K     |█████████▍                      | 92kB 9.9MB/s eta 0:00:01\r\u001b[K     |██████████▌                     | 102kB 8.6MB/s eta 0:00:01\r\u001b[K     |███████████▌                    | 112kB 8.6MB/s eta 0:00:01\r\u001b[K     |████████████▋                   | 122kB 8.6MB/s eta 0:00:01\r\u001b[K     |█████████████▋                  | 133kB 8.6MB/s eta 0:00:01\r\u001b[K     |██████████████▊                 | 143kB 8.6MB/s eta 0:00:01\r\u001b[K     |███████████████▊                | 153kB 8.6MB/s eta 0:00:01\r\u001b[K     |████████████████▊               | 163kB 8.6MB/s eta 0:00:01\r\u001b[K     |█████████████████▉              | 174kB 8.6MB/s eta 0:00:01\r\u001b[K     |██████████████████▉             | 184kB 8.6MB/s eta 0:00:01\r\u001b[K     |████████████████████            | 194kB 8.6MB/s eta 0:00:01\r\u001b[K     |█████████████████████           | 204kB 8.6MB/s eta 0:00:01\r\u001b[K     |██████████████████████          | 215kB 8.6MB/s eta 0:00:01\r\u001b[K     |███████████████████████         | 225kB 8.6MB/s eta 0:00:01\r\u001b[K     |████████████████████████▏       | 235kB 8.6MB/s eta 0:00:01\r\u001b[K     |█████████████████████████▏      | 245kB 8.6MB/s eta 0:00:01\r\u001b[K     |██████████████████████████▏     | 256kB 8.6MB/s eta 0:00:01\r\u001b[K     |███████████████████████████▎    | 266kB 8.6MB/s eta 0:00:01\r\u001b[K     |████████████████████████████▎   | 276kB 8.6MB/s eta 0:00:01\r\u001b[K     |█████████████████████████████▍  | 286kB 8.6MB/s eta 0:00:01\r\u001b[K     |██████████████████████████████▍ | 296kB 8.6MB/s eta 0:00:01\r\u001b[K     |███████████████████████████████▌| 307kB 8.6MB/s eta 0:00:01\r\u001b[K     |████████████████████████████████| 317kB 8.6MB/s \n",
            "\u001b[?25hRequirement already satisfied: numpy>=1.9.1 in /usr/local/lib/python3.7/dist-packages (from keras==2.2.4) (1.18.5)\n",
            "Requirement already satisfied: scipy>=0.14 in /usr/local/lib/python3.7/dist-packages (from keras==2.2.4) (1.4.1)\n",
            "Requirement already satisfied: h5py in /usr/local/lib/python3.7/dist-packages (from keras==2.2.4) (2.10.0)\n",
            "Requirement already satisfied: pyyaml in /usr/local/lib/python3.7/dist-packages (from keras==2.2.4) (3.13)\n",
            "Requirement already satisfied: keras-applications>=1.0.6 in /usr/local/lib/python3.7/dist-packages (from keras==2.2.4) (1.0.8)\n",
            "Requirement already satisfied: six>=1.9.0 in /usr/local/lib/python3.7/dist-packages (from keras==2.2.4) (1.15.0)\n",
            "Requirement already satisfied: keras-preprocessing>=1.0.5 in /usr/local/lib/python3.7/dist-packages (from keras==2.2.4) (1.1.2)\n",
            "Installing collected packages: keras\n",
            "Successfully installed keras-2.2.4\n"
          ],
          "name": "stdout"
        }
      ]
    },
    {
      "cell_type": "code",
      "metadata": {
        "colab": {
          "base_uri": "https://localhost:8080/"
        },
        "id": "FOgn37WrIiKO",
        "outputId": "6ab8a3a6-050d-4790-f223-443e0d841979"
      },
      "source": [
        "from textgenrnn import textgenrnn"
      ],
      "execution_count": null,
      "outputs": [
        {
          "output_type": "stream",
          "text": [
            "Using TensorFlow backend.\n"
          ],
          "name": "stderr"
        }
      ]
    },
    {
      "cell_type": "markdown",
      "metadata": {
        "id": "bdzK81DwbT2F"
      },
      "source": [
        "Model config:"
      ]
    },
    {
      "cell_type": "code",
      "metadata": {
        "id": "dmuLuLlabVfU"
      },
      "source": [
        "model_config = {\n",
        "  'num_epochs': 20, \n",
        "  'gen_epochs': 1, \n",
        "  'max_length': 20, \n",
        "  'max_words': 10000,\n",
        "  'train_size': 0.8, \n",
        "  'dropout': 0.2\n",
        "}"
      ],
      "execution_count": null,
      "outputs": []
    },
    {
      "cell_type": "markdown",
      "metadata": {
        "id": "lv-df-eIbs0r"
      },
      "source": [
        "Get files:"
      ]
    },
    {
      "cell_type": "code",
      "metadata": {
        "id": "LSDIzDxtby58",
        "colab": {
          "resources": {
            "http://localhost:8080/nbextensions/google.colab/files.js": {
              "data": "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",
              "ok": true,
              "headers": [
                [
                  "content-type",
                  "application/javascript"
                ]
              ],
              "status": 200,
              "status_text": ""
            }
          },
          "base_uri": "https://localhost:8080/",
          "height": 174
        },
        "outputId": "1ebf068f-7dbe-42c2-8385-da55871f6f6c"
      },
      "source": [
        "uploaded = files.upload()\n",
        "all_files = [(name, os.path.getmtime(name)) for name in os.listdir()]\n",
        "latest_file = sorted(all_files, key=lambda x: -x[1])[0][0]\n"
      ],
      "execution_count": null,
      "outputs": [
        {
          "output_type": "display_data",
          "data": {
            "text/html": [
              "\n",
              "     <input type=\"file\" id=\"files-ad0faa4a-6bc4-4484-9901-b753c77e3353\" name=\"files[]\" multiple disabled\n",
              "        style=\"border:none\" />\n",
              "     <output id=\"result-ad0faa4a-6bc4-4484-9901-b753c77e3353\">\n",
              "      Upload widget is only available when the cell has been executed in the\n",
              "      current browser session. Please rerun this cell to enable.\n",
              "      </output>\n",
              "      <script src=\"/nbextensions/google.colab/files.js\"></script> "
            ],
            "text/plain": [
              "<IPython.core.display.HTML object>"
            ]
          },
          "metadata": {
            "tags": []
          }
        },
        {
          "output_type": "stream",
          "text": [
            "Saving 2000-2009_title.txt to 2000-2009_title.txt\n",
            "Saving 2010-2015_title.txt to 2010-2015_title.txt\n",
            "Saving 2016-2018_title.txt to 2016-2018_title.txt\n",
            "Saving 2019-2021_title.txt to 2019-2021_title.txt\n"
          ],
          "name": "stdout"
        }
      ]
    },
    {
      "cell_type": "markdown",
      "metadata": {
        "id": "Rp4xvvIyekRI"
      },
      "source": [
        "Get sentences from file"
      ]
    },
    {
      "cell_type": "code",
      "metadata": {
        "id": "KT5HIKNHenXC",
        "colab": {
          "base_uri": "https://localhost:8080/"
        },
        "outputId": "dbf88c57-89bf-4317-a60c-c737caea8bfe"
      },
      "source": [
        "import random\n",
        "source_2000_2009 = open('2000-2009_title.txt').read()\n",
        "source_2010_2015 = open('2010-2015_title.txt').read()\n",
        "source_2016_2018 = open('2016-2018_title.txt').read()\n",
        "source_2019_2021 = open('2019-2021_title.txt').read()\n",
        "source_sentences = source_2000_2009.splitlines() + source_2010_2015.splitlines() + source_2016_2018.splitlines() + source_2019_2021.splitlines()\n",
        "print(random.sample(source_sentences, 5))"
      ],
      "execution_count": null,
      "outputs": [
        {
          "output_type": "stream",
          "text": [
            "['Impeachment Hearings Open With Revelation on Trump’s Ukraine Pressure', 'Quest for Yield Still Trumping Safety in Debt Markets', 'SOCCER : Trumpet sounds, but whose?', 'Democratic Attorneys General Sue to Block Trump Food Stamp Cuts', 'Leaked Script Shows What Advisers Want Donald Trump to Say at Black Church']\n"
          ],
          "name": "stdout"
        }
      ]
    },
    {
      "cell_type": "markdown",
      "metadata": {
        "id": "eHJ49rf_fFGl"
      },
      "source": [
        "Set up model:"
      ]
    },
    {
      "cell_type": "code",
      "metadata": {
        "id": "FHGyaamVKHGJ"
      },
      "source": [
        "model_name = 'NYT_2000_2021'"
      ],
      "execution_count": null,
      "outputs": []
    },
    {
      "cell_type": "markdown",
      "metadata": {
        "id": "nZ6s1yPkMCah"
      },
      "source": [
        "new model:"
      ]
    },
    {
      "cell_type": "code",
      "metadata": {
        "colab": {
          "base_uri": "https://localhost:8080/",
          "height": 1000
        },
        "id": "b7XVkwiIMBwY",
        "outputId": "03a73ca9-ed3a-4ede-dc0f-647356e9e232"
      },
      "source": [
        "textgen = textgenrnn(name = model_name)\n",
        "textgen.train_on_texts(source_sentences, new_model=True, word_level=True, num_epochs = model_config['num_epochs'], gen_epochs = model_config['gen_epochs'], max_length = model_config['max_length'], max_words = model_config['max_words'], train_size = model_config['train_size'], dropout = model_config['dropout'])\n",
        "textgen.save(model_name+\"_weights.hdf5\")\n",
        "files.download(model_name+\"_weights.hdf5\")\n",
        "files.download(model_name+\"_vocab.json\")\n",
        "files.download(model_name+\"_config.json\")"
      ],
      "execution_count": null,
      "outputs": [
        {
          "output_type": "stream",
          "text": [
            "Training new model w/ 2-layer, 128-cell LSTMs\n",
            "Training on 280,351 word sequences.\n",
            "Epoch 1/20\n",
            "2190/2190 [==============================] - 539s 246ms/step - loss: 5.3212\n",
            "####################\n",
            "Temperature: 0.2\n",
            "####################\n",
            "trump ’ s trade war with china\n",
            "\n",
            "trump ’ s trade war with the ‘ ’\n",
            "\n",
            "trump ’ s trade war with kim jong - un\n",
            "\n",
            "####################\n",
            "Temperature: 0.5\n",
            "####################\n",
            "trump ’ s nominee is back at his own team\n",
            "\n",
            "trump ’ s trade war with russia\n",
            "\n",
            "trump ’ s trade war with kim jong - un , north korea\n",
            "\n",
            "####################\n",
            "Temperature: 1.0\n",
            "####################\n",
            "far - - off sessions , demanding true up , but trump jeffrey temporary to conference the debate\n",
            "\n",
            "quick joe biden says trump ’ s campaign still questions about his law\n",
            "\n",
            "trump ’ s claim of health care\n",
            "\n",
            "Epoch 2/20\n",
            "2190/2190 [==============================] - 533s 243ms/step - loss: 4.5588\n",
            "####################\n",
            "Temperature: 0.2\n",
            "####################\n",
            "trump ’ s new sanctions on the military\n",
            "\n",
            "trump ’ s new travel ban may be hard to the military\n",
            "\n",
            "trump ’ s new york : the military leaders\n",
            "\n",
            "####################\n",
            "Temperature: 0.5\n",
            "####################\n",
            "donald trump , the man of the nation ’ s death\n",
            "\n",
            "trump ’ s opposition to sanctions on russia\n",
            "\n",
            "trump ’ s new york : a week in the west wing\n",
            "\n",
            "####################\n",
            "Temperature: 1.0\n",
            "####################\n",
            "after took office , bind obama calls trump ‘ con ’\n",
            "\n",
            "as trump orders the of suit , a supreme court and other democrats\n",
            "\n",
            "woman said to trump ’ s pivotal of covid cases\n",
            "\n",
            "Epoch 3/20\n",
            "2190/2190 [==============================] - 527s 241ms/step - loss: 4.2799\n",
            "####################\n",
            "Temperature: 0.2\n",
            "####################\n",
            "trump ’ s ‘ wrecking ball ’\n",
            "\n",
            "trump ’ s new york attorney general assembly : analysis\n",
            "\n",
            "trump ’ s ‘ wrecking ball ’\n",
            "\n",
            "####################\n",
            "Temperature: 0.5\n",
            "####################\n",
            "trump ’ s veto threat to bite national emergency\n",
            "\n",
            "trump says he ’ s considering a ‘ new york ’ : ‘ you should have you ’ re re not all ’ : trump\n",
            "\n",
            "trump ’ s attack on the virus\n",
            "\n",
            "####################\n",
            "Temperature: 1.0\n",
            "####################\n",
            "trump officials asked new jersey trade deficit , raising questions\n",
            "\n",
            "reaction to trump ? children ’ but ‘ merit ’ to label tough green questions out\n",
            "\n",
            "fearing a trump state , a dictator theory ? keeps him sour absolutely\n",
            "\n",
            "Epoch 4/20\n",
            "2190/2190 [==============================] - 524s 239ms/step - loss: 4.0874\n",
            "####################\n",
            "Temperature: 0.2\n",
            "####################\n",
            "trump ’ s ‘ ’ on the world is being blocked , and the world\n",
            "\n",
            "trump ’ s trade war threat will china\n",
            "\n",
            "trump ’ s ‘ ’ label and the world\n",
            "\n",
            "####################\n",
            "Temperature: 0.5\n",
            "####################\n",
            "trump ’ s immigration policy is a . now he ’ s the president .\n",
            "\n",
            "trump ’ s ‘ button ’ on the border wall\n",
            "\n",
            "the trump administration is remaking the republic\n",
            "\n",
            "####################\n",
            "Temperature: 1.0\n",
            "####################\n",
            "will reaches out trump on one lifting climate , small and episodes\n",
            "\n",
            "seeking vote to official stocks , trump como melania trump\n",
            "\n",
            "late night finds collusion of aiding trump ’ s visit\n",
            "\n",
            "Epoch 5/20\n",
            "2190/2190 [==============================] - 523s 239ms/step - loss: 3.9302\n",
            "####################\n",
            "Temperature: 0.2\n",
            "####################\n",
            "trump ’ s trade war has a familiar feel\n",
            "\n",
            "trump ’ s trade war with china will be a damaging trade war\n",
            "\n",
            "trump ’ s ‘ ’ of a ‘ ’\n",
            "\n",
            "####################\n",
            "Temperature: 0.5\n",
            "####################\n",
            "trump ’ s ‘ great ’ are ‘ great ’ in china , but it won ’ t be a ‘ closed ’\n",
            "\n",
            "trump ’ s budget cuts leaves the supreme court . what does it mean ?\n",
            "\n",
            "trump ’ s economic war on china\n",
            "\n",
            "####################\n",
            "Temperature: 1.0\n",
            "####################\n",
            "trump campaign and julian assange : a ex - experience inside a view of the post - clinton inquiry\n",
            "\n",
            "trump announces china trade talks with china\n",
            "\n",
            "trump ’ s meeting with kim jong - un\n",
            "\n",
            "Epoch 6/20\n",
            "2190/2190 [==============================] - 525s 240ms/step - loss: 3.8050\n",
            "####################\n",
            "Temperature: 0.2\n",
            "####################\n",
            "trump ’ s tweets : what if he is ?\n",
            "\n",
            "trump ’ s first visit to the world\n",
            "\n",
            "trump ’ s first visit to the world\n",
            "\n",
            "####################\n",
            "Temperature: 0.5\n",
            "####################\n",
            "trump ’ s cabinet\n",
            "\n",
            "trump ’ s ‘ ’ operation but is the white flag ’ t pay for his wall\n",
            "\n",
            "trump ’ s first step with a private meeting with a wide for political\n",
            "\n",
            "####################\n",
            "Temperature: 1.0\n",
            "####################\n",
            "ambitious ex - trump hotel press effort to challenging him , is a trump\n",
            "\n",
            "after trump , uncertainty mount , views in alabama very pruitt\n",
            "\n",
            "as coronavirus rages , trump ’ s new movie\n",
            "\n",
            "Epoch 7/20\n",
            "2190/2190 [==============================] - 524s 239ms/step - loss: 3.7046\n",
            "####################\n",
            "Temperature: 0.2\n",
            "####################\n",
            "trump ’ s ‘ best people ’ ’ s new york times interview\n",
            "\n",
            "trump ’ s tax cuts are a trailer . it ’ s not always been happened .\n",
            "\n",
            "trump ’ s new pledge to bar asylum seekers to asylum seekers , denying workers\n",
            "\n",
            "####################\n",
            "Temperature: 0.5\n",
            "####################\n",
            "trump ’ s immigration order may be a hard line on the border\n",
            "\n",
            "trump and clinton have to meet the coronavirus pandemic\n",
            "\n",
            "trump is said to have been saved by the pandemic , but it ’ s not helping\n",
            "\n",
            "####################\n",
            "Temperature: 1.0\n",
            "####################\n",
            "moving saudi aramco , nothing attack on trump campaign post , speaks at away\n",
            "\n",
            "ivanka trump and jared kushner london mayor criticized trump over poland election\n",
            "\n",
            "trump taps the air as democratic meeting , privacy . t . is her\n",
            "\n",
            "Epoch 8/20\n",
            "2190/2190 [==============================] - 526s 240ms/step - loss: 3.6076\n",
            "####################\n",
            "Temperature: 0.2\n",
            "####################\n",
            "trump ’ s ‘ america first ’ : the u . s . and allies in china\n",
            "\n",
            "trump ’ s ‘ animals ’ remark\n",
            "\n",
            "trump ’ s ‘ animals ’ remark\n",
            "\n",
            "####################\n",
            "Temperature: 0.5\n",
            "####################\n",
            "trump ’ s campaign manager wasn ’ t ‘ the man ’ in the u . s .\n",
            "\n",
            "trump ’ s choice for health secretary\n",
            "\n",
            "neil gorsuch , trump and the u . n . : your wednesday evening briefing\n",
            "\n",
            "####################\n",
            "Temperature: 1.0\n",
            "####################\n",
            "why results outside trump ’ s strong support for immigrants\n",
            "\n",
            "trump ’ s still statement on governor\n",
            "\n",
            "trump renews open , both campaign manager , from space\n",
            "\n",
            "Epoch 9/20\n",
            "2190/2190 [==============================] - 526s 240ms/step - loss: 3.5211\n",
            "####################\n",
            "Temperature: 0.2\n",
            "####################\n",
            "trump ’ s new travel ban leaves americans\n",
            "\n",
            "trump ’ s new travel ban : a bully backs off\n",
            "\n",
            "trump ’ s economic cabinet picks\n",
            "\n",
            "####################\n",
            "Temperature: 0.5\n",
            "####################\n",
            "trump ’ s push to cut drug prices , and paid it down\n",
            "\n",
            "trump ’ s travel ban gets a problem with the fed\n",
            "\n",
            "trump ’ s transgender military ban is unconstitutional\n",
            "\n",
            "####################\n",
            "Temperature: 1.0\n",
            "####################\n",
            "poll , donald trump , marine le pen , patrick ‘ your thursday briefing\n",
            "\n",
            "your tuesday evening briefing : hillary clinton , donald trump , hillary clinton\n",
            "\n",
            "pre - trump aide dispute : affair between best intelligence on officials '\n",
            "\n",
            "Epoch 10/20\n",
            "2190/2190 [==============================] - 521s 238ms/step - loss: 3.4379\n",
            "####################\n",
            "Temperature: 0.2\n",
            "####################\n",
            "trump ’ s ‘ obsession with the american people ’\n",
            "\n",
            "trump ’ s ‘ ’ : the new york times\n",
            "\n",
            "trump ’ s false claim that he knows how much to cooperate with the times\n",
            "\n",
            "####################\n",
            "Temperature: 0.5\n",
            "####################\n",
            "trump ’ s trade threats put u . s . economy , but his deal remains a showdown\n",
            "\n",
            "donald trump , n . c . l . : your monday evening briefing\n",
            "\n",
            "trump ’ s doctor says he ’ s ‘ bad ’ for ‘ kremlin ’ on russia\n",
            "\n",
            "####################\n",
            "Temperature: 1.0\n",
            "####################\n",
            "trump could help n . c . a .\n",
            "\n",
            "the foreign tech that lost the fight against trump ’ s order on without\n",
            "\n",
            "6 can democrats say trump and jared kushner report up italy ’ s problems\n",
            "\n",
            "Epoch 11/20\n",
            "2190/2190 [==============================] - 529s 242ms/step - loss: 3.3762\n",
            "####################\n",
            "Temperature: 0.2\n",
            "####################\n",
            "trump ’ s new travel ban is a than physical , and the right\n",
            "\n",
            "trump ’ s immigration order may be a test for the world\n",
            "\n",
            "trump ’ s immigration order may be a test for the world\n",
            "\n",
            "####################\n",
            "Temperature: 0.5\n",
            "####################\n",
            "trump ’ s trade war may be worse than the border\n",
            "\n",
            "trump says he ’ s ready to keep china trade deal to the u . s .\n",
            "\n",
            "trump ’ s new travel ban is the most important than it ’ s too late\n",
            "\n",
            "####################\n",
            "Temperature: 1.0\n",
            "####################\n",
            "david malpass , donald trump ’ s former adviser\n",
            "\n",
            "mary trump calls pope francis for ‘ fox & friends ’\n",
            "\n",
            "trump plans to provide relief ’ s private on tapes\n",
            "\n",
            "Epoch 12/20\n",
            "2190/2190 [==============================] - 536s 245ms/step - loss: 3.3025\n",
            "####################\n",
            "Temperature: 0.2\n",
            "####################\n",
            "trump ’ s tax plan : a ‘ ’\n",
            "\n",
            "trump ’ s tax plan\n",
            "\n",
            "trump ’ s ‘ ’\n",
            "\n",
            "####################\n",
            "Temperature: 0.5\n",
            "####################\n",
            "trump ’ s tax plan is a ‘ ’\n",
            "\n",
            "donald trump , , brexit : your tuesday briefing\n",
            "\n",
            "trump ’ s plan for a big businesses\n",
            "\n",
            "####################\n",
            "Temperature: 1.0\n",
            "####################\n",
            "the clintons and comedy : music - ; first trumpeter ’ s insult side in new hampshire cities rourke subsidies\n",
            "\n",
            "trump ’ s never approval ratings oversee tv\n",
            "\n",
            "nato on a new election : a new idea for trump ’ s low -\n",
            "\n",
            "Epoch 13/20\n",
            "2190/2190 [==============================] - 541s 247ms/step - loss: 3.2414\n",
            "####################\n",
            "Temperature: 0.2\n",
            "####################\n",
            "trump ’ s trade war with china pierces the heart of michigan\n",
            "\n",
            "trump ’ s tax cut has a new york to the world\n",
            "\n",
            "trump ’ s latest message : the week ahead of the day\n",
            "\n",
            "####################\n",
            "Temperature: 0.5\n",
            "####################\n",
            "donald trump ’ s plan to keep north korea summit\n",
            "\n",
            "trump and the art of the new york times\n",
            "\n",
            "trump ’ s latest lies\n",
            "\n",
            "####################\n",
            "Temperature: 1.0\n",
            "####################\n",
            "trump presses for democrats on cincinnati as federal trees threat\n",
            "\n",
            "security general gave ivanka trump ‘ progress ’ in key attack\n",
            "\n",
            "in tough choice of war , owners internet trumpism disagree ? nope\n",
            "\n",
            "Epoch 14/20\n",
            "2190/2190 [==============================] - 543s 248ms/step - loss: 3.1900\n",
            "####################\n",
            "Temperature: 0.2\n",
            "####################\n",
            "trump ’ s ‘ best people ’\n",
            "\n",
            "trump ’ s ‘ best ’ to be\n",
            "\n",
            "trump ’ s trade war may be a test for his removal\n",
            "\n",
            "####################\n",
            "Temperature: 0.5\n",
            "####################\n",
            "trump ’ s approval rating : biden ' s career\n",
            "\n",
            "trump ’ s trade war is leaving the iran nuclear accord\n",
            "\n",
            "trump ’ s dorian tweet , and obama ’ s health care act may be a test\n",
            "\n",
            "####################\n",
            "Temperature: 1.0\n",
            "####################\n",
            "why trump wins approval for now protesters\n",
            "\n",
            "ivanka trump ’ s nominee , turkey , international favors\n",
            "\n",
            "trump ’ s path to california and fed sent a ‘ true test ’\n",
            "\n",
            "Epoch 15/20\n",
            "2190/2190 [==============================] - 536s 245ms/step - loss: 3.1557\n",
            "####################\n",
            "Temperature: 0.2\n",
            "####################\n",
            "trump ’ s immigration ban is a ‘ ’\n",
            "\n",
            "trump ’ s trade war with china is a familiar feel pain from the border\n",
            "\n",
            "trump ’ s ‘ ’ label could be weakening of trump ’ s trade war\n",
            "\n",
            "####################\n",
            "Temperature: 0.5\n",
            "####################\n",
            "trump tries to woo hispanic voters in debt\n",
            "\n",
            "trump ’ s ‘ ’\n",
            "\n",
            "trump ’ s ‘ best people ’ ’ s\n",
            "\n",
            "####################\n",
            "Temperature: 1.0\n",
            "####################\n",
            "wednesday ' s takes resignation from up first time to expand trump ' s tax records\n",
            "\n",
            "donald trump - kim summit force goes to republicans while 3 times\n",
            "\n",
            "brexit st . says trump impeachment , quid pro quo\n",
            "\n",
            "Epoch 16/20\n",
            "2190/2190 [==============================] - 539s 246ms/step - loss: 3.0692\n",
            "####################\n",
            "Temperature: 0.2\n",
            "####################\n",
            "trump ’ s ‘ ’ bump are in the age of\n",
            "\n",
            "trump ’ s trade war could be a new strategy for the press\n",
            "\n",
            "trump ’ s tax cuts may be a test for his first year\n",
            "\n",
            "####################\n",
            "Temperature: 0.5\n",
            "####################\n",
            "trump ’ s threat to cut aid for north korea meeting\n",
            "\n",
            "trump administration moves to cut drug costs , but doesn ’ t get enough\n",
            "\n",
            "trump ’ s effort to fight isis and promises to him a success\n",
            "\n",
            "####################\n",
            "Temperature: 1.0\n",
            "####################\n",
            "a divisive voice of off the trump administration controversy\n",
            "\n",
            "on politics : trump and putin about russia\n",
            "\n",
            "is trump explaining the win in new york member ?\n",
            "\n",
            "Epoch 17/20\n",
            "2190/2190 [==============================] - 535s 244ms/step - loss: 3.0047\n",
            "####################\n",
            "Temperature: 0.2\n",
            "####################\n",
            "trump ’ s tariffs are some of the union , hitting takeaways\n",
            "\n",
            "trump ’ s latest tactic : guns , and opportunity\n",
            "\n",
            "trump ’ s trade war may be a test for the rich\n",
            "\n",
            "####################\n",
            "Temperature: 0.5\n",
            "####################\n",
            "trump is making america\n",
            "\n",
            "trump ’ s tariffs on the border\n",
            "\n",
            "donald trump ’ s and dangerous sight\n",
            "\n",
            "####################\n",
            "Temperature: 1.0\n",
            "####################\n",
            "donald trump , academy awards , supermoon : your monday briefing\n",
            "\n",
            "trump tries easy to meet before it helped bolster russia ’ s wall street\n",
            "\n",
            "amazon ’ s trump , said he wanted not to bar reports of nuclear event\n",
            "\n",
            "Epoch 18/20\n",
            "2190/2190 [==============================] - 539s 246ms/step - loss: 2.9418\n",
            "####################\n",
            "Temperature: 0.2\n",
            "####################\n",
            "trump ’ s trade war may be a test for the press\n",
            "\n",
            "trump ’ s trade war may be a test for the border\n",
            "\n",
            "trump ’ s ‘ fire and fury ’ threat to north korea\n",
            "\n",
            "####################\n",
            "Temperature: 0.5\n",
            "####################\n",
            "trump ’ s news conference : what we know about what it means for\n",
            "\n",
            "trump and the next g7\n",
            "\n",
            "trump ’ s immigration plan is a new york to the world\n",
            "\n",
            "####################\n",
            "Temperature: 1.0\n",
            "####################\n",
            "russian nueva auto cheers , and pruitt , veers from trump ; to center stage\n",
            "\n",
            "declare trump risks on election to fight with taliban\n",
            "\n",
            "putin gets an opening with wasn ' t insult ' spent as trump ’ s hunt sean .\n",
            "\n",
            "Epoch 19/20\n",
            "2190/2190 [==============================] - 548s 250ms/step - loss: 2.8899\n",
            "####################\n",
            "Temperature: 0.2\n",
            "####################\n",
            "trump ’ s ‘ fire and fury ’ threat to pressure from syria\n",
            "\n",
            "trump ’ s trade war may be a test for the rich\n",
            "\n",
            "trump ’ s trade war may have been china , but not everyone in\n",
            "\n",
            "####################\n",
            "Temperature: 0.5\n",
            "####################\n",
            "trump ’ s travel ban leaves\n",
            "\n",
            "trump ’ s trade war may have been china , but not everyone\n",
            "\n",
            "trump ’ s attack on mika brzezinski draws rebukes across a media\n",
            "\n",
            "####################\n",
            "Temperature: 1.0\n",
            "####################\n",
            "quotation of the day : google deport up , trump and sanders\n",
            "\n",
            "las thiel ’ s long island with trump meets with the special counsel\n",
            "\n",
            "trump asks supreme court to the delegates for thousands of mar - raising for his companies are\n",
            "\n",
            "Epoch 20/20\n",
            "2190/2190 [==============================] - 548s 250ms/step - loss: 2.8268\n",
            "####################\n",
            "Temperature: 0.2\n",
            "####################\n",
            "trump ’ s trade war may be a test for his base\n",
            "\n",
            "trump ’ s ‘ ’ on the rule of law\n",
            "\n",
            "trump ’ s trade war may be a test for the rich\n",
            "\n",
            "####################\n",
            "Temperature: 0.5\n",
            "####################\n",
            "trump says he will delay citizenship question about the coronavirus\n",
            "\n",
            "trump ’ s ‘ fraud ’ claims in syria were v . k . stands\n",
            "\n",
            "trump , in wisconsin , says obama ’ s ‘ america first ’\n",
            "\n",
            "####################\n",
            "Temperature: 1.0\n",
            "####################\n",
            "donald trump ’ s convention : day who defied him off\n",
            "\n",
            "after stormy daniels , ‘ i shrugs off happy ’ with trump\n",
            "\n",
            "an use of latino children worked in pelosi , and under trump\n",
            "\n"
          ],
          "name": "stdout"
        },
        {
          "output_type": "display_data",
          "data": {
            "application/javascript": [
              "\n",
              "    async function download(id, filename, size) {\n",
              "      if (!google.colab.kernel.accessAllowed) {\n",
              "        return;\n",
              "      }\n",
              "      const div = document.createElement('div');\n",
              "      const label = document.createElement('label');\n",
              "      label.textContent = `Downloading \"${filename}\": `;\n",
              "      div.appendChild(label);\n",
              "      const progress = document.createElement('progress');\n",
              "      progress.max = size;\n",
              "      div.appendChild(progress);\n",
              "      document.body.appendChild(div);\n",
              "\n",
              "      const buffers = [];\n",
              "      let downloaded = 0;\n",
              "\n",
              "      const channel = await google.colab.kernel.comms.open(id);\n",
              "      // Send a message to notify the kernel that we're ready.\n",
              "      channel.send({})\n",
              "\n",
              "      for await (const message of channel.messages) {\n",
              "        // Send a message to notify the kernel that we're ready.\n",
              "        channel.send({})\n",
              "        if (message.buffers) {\n",
              "          for (const buffer of message.buffers) {\n",
              "            buffers.push(buffer);\n",
              "            downloaded += buffer.byteLength;\n",
              "            progress.value = downloaded;\n",
              "          }\n",
              "        }\n",
              "      }\n",
              "      const blob = new Blob(buffers, {type: 'application/binary'});\n",
              "      const a = document.createElement('a');\n",
              "      a.href = window.URL.createObjectURL(blob);\n",
              "      a.download = filename;\n",
              "      div.appendChild(a);\n",
              "      a.click();\n",
              "      div.remove();\n",
              "    }\n",
              "  "
            ],
            "text/plain": [
              "<IPython.core.display.Javascript object>"
            ]
          },
          "metadata": {
            "tags": []
          }
        },
        {
          "output_type": "display_data",
          "data": {
            "application/javascript": [
              "download(\"download_31a0132a-c8cd-4859-a713-71cfb8cbe05d\", \"NYT_2000_2021_weights.hdf5\", 19304928)"
            ],
            "text/plain": [
              "<IPython.core.display.Javascript object>"
            ]
          },
          "metadata": {
            "tags": []
          }
        },
        {
          "output_type": "display_data",
          "data": {
            "application/javascript": [
              "\n",
              "    async function download(id, filename, size) {\n",
              "      if (!google.colab.kernel.accessAllowed) {\n",
              "        return;\n",
              "      }\n",
              "      const div = document.createElement('div');\n",
              "      const label = document.createElement('label');\n",
              "      label.textContent = `Downloading \"${filename}\": `;\n",
              "      div.appendChild(label);\n",
              "      const progress = document.createElement('progress');\n",
              "      progress.max = size;\n",
              "      div.appendChild(progress);\n",
              "      document.body.appendChild(div);\n",
              "\n",
              "      const buffers = [];\n",
              "      let downloaded = 0;\n",
              "\n",
              "      const channel = await google.colab.kernel.comms.open(id);\n",
              "      // Send a message to notify the kernel that we're ready.\n",
              "      channel.send({})\n",
              "\n",
              "      for await (const message of channel.messages) {\n",
              "        // Send a message to notify the kernel that we're ready.\n",
              "        channel.send({})\n",
              "        if (message.buffers) {\n",
              "          for (const buffer of message.buffers) {\n",
              "            buffers.push(buffer);\n",
              "            downloaded += buffer.byteLength;\n",
              "            progress.value = downloaded;\n",
              "          }\n",
              "        }\n",
              "      }\n",
              "      const blob = new Blob(buffers, {type: 'application/binary'});\n",
              "      const a = document.createElement('a');\n",
              "      a.href = window.URL.createObjectURL(blob);\n",
              "      a.download = filename;\n",
              "      div.appendChild(a);\n",
              "      a.click();\n",
              "      div.remove();\n",
              "    }\n",
              "  "
            ],
            "text/plain": [
              "<IPython.core.display.Javascript object>"
            ]
          },
          "metadata": {
            "tags": []
          }
        },
        {
          "output_type": "display_data",
          "data": {
            "application/javascript": [
              "download(\"download_fc1f869c-a861-4f37-97b0-e69080f6bfc9\", \"NYT_2000_2021_vocab.json\", 166669)"
            ],
            "text/plain": [
              "<IPython.core.display.Javascript object>"
            ]
          },
          "metadata": {
            "tags": []
          }
        },
        {
          "output_type": "display_data",
          "data": {
            "application/javascript": [
              "\n",
              "    async function download(id, filename, size) {\n",
              "      if (!google.colab.kernel.accessAllowed) {\n",
              "        return;\n",
              "      }\n",
              "      const div = document.createElement('div');\n",
              "      const label = document.createElement('label');\n",
              "      label.textContent = `Downloading \"${filename}\": `;\n",
              "      div.appendChild(label);\n",
              "      const progress = document.createElement('progress');\n",
              "      progress.max = size;\n",
              "      div.appendChild(progress);\n",
              "      document.body.appendChild(div);\n",
              "\n",
              "      const buffers = [];\n",
              "      let downloaded = 0;\n",
              "\n",
              "      const channel = await google.colab.kernel.comms.open(id);\n",
              "      // Send a message to notify the kernel that we're ready.\n",
              "      channel.send({})\n",
              "\n",
              "      for await (const message of channel.messages) {\n",
              "        // Send a message to notify the kernel that we're ready.\n",
              "        channel.send({})\n",
              "        if (message.buffers) {\n",
              "          for (const buffer of message.buffers) {\n",
              "            buffers.push(buffer);\n",
              "            downloaded += buffer.byteLength;\n",
              "            progress.value = downloaded;\n",
              "          }\n",
              "        }\n",
              "      }\n",
              "      const blob = new Blob(buffers, {type: 'application/binary'});\n",
              "      const a = document.createElement('a');\n",
              "      a.href = window.URL.createObjectURL(blob);\n",
              "      a.download = filename;\n",
              "      div.appendChild(a);\n",
              "      a.click();\n",
              "      div.remove();\n",
              "    }\n",
              "  "
            ],
            "text/plain": [
              "<IPython.core.display.Javascript object>"
            ]
          },
          "metadata": {
            "tags": []
          }
        },
        {
          "output_type": "display_data",
          "data": {
            "application/javascript": [
              "download(\"download_f2f61a51-0998-4d91-82d2-e8ac21da19aa\", \"NYT_2000_2021_config.json\", 190)"
            ],
            "text/plain": [
              "<IPython.core.display.Javascript object>"
            ]
          },
          "metadata": {
            "tags": []
          }
        }
      ]
    },
    {
      "cell_type": "markdown",
      "metadata": {
        "id": "GwLnnhKr4amp"
      },
      "source": [
        "Continue training:\n"
      ]
    },
    {
      "cell_type": "code",
      "metadata": {
        "id": "j6nDPwQo4Z3D",
        "colab": {
          "base_uri": "https://localhost:8080/",
          "height": 266
        },
        "outputId": "76901b42-3b31-4900-df40-9b196e95463a"
      },
      "source": [
        "textgen = textgenrnn(config_path=model_name+\"_config.json\", weights_path=model_name+\"_weights.hdf5\", vocab_path=model_name+\"_vocab.json\")\n",
        "textgen.train_on_texts(source_sentences, new_model=False, word_level=True, num_epochs = model_config['num_epochs'], gen_epochs = model_config['gen_epochs'], max_length = model_config['max_length'], max_words = model_config['max_words'], train_size = model_config['train_size'], dropout = model_config['dropout'])\n",
        "textgen.save(model_name+\"_weights.hdf5\")"
      ],
      "execution_count": null,
      "outputs": [
        {
          "output_type": "error",
          "ename": "NameError",
          "evalue": "ignored",
          "traceback": [
            "\u001b[0;31m---------------------------------------------------------------------------\u001b[0m",
            "\u001b[0;31mNameError\u001b[0m                                 Traceback (most recent call last)",
            "\u001b[0;32m<ipython-input-1-8262779ea46d>\u001b[0m in \u001b[0;36m<module>\u001b[0;34m()\u001b[0m\n\u001b[0;32m----> 1\u001b[0;31m \u001b[0mtextgen\u001b[0m \u001b[0;34m=\u001b[0m \u001b[0mtextgenrnn\u001b[0m\u001b[0;34m(\u001b[0m\u001b[0mconfig_path\u001b[0m\u001b[0;34m=\u001b[0m\u001b[0mmodel_name\u001b[0m\u001b[0;34m+\u001b[0m\u001b[0;34m\"_config.json\"\u001b[0m\u001b[0;34m,\u001b[0m \u001b[0mweights_path\u001b[0m\u001b[0;34m=\u001b[0m\u001b[0mmodel_name\u001b[0m\u001b[0;34m+\u001b[0m\u001b[0;34m\"_weights.hdf5\"\u001b[0m\u001b[0;34m,\u001b[0m \u001b[0mvocab_path\u001b[0m\u001b[0;34m=\u001b[0m\u001b[0mmodel_name\u001b[0m\u001b[0;34m+\u001b[0m\u001b[0;34m\"_vocab.json\"\u001b[0m\u001b[0;34m)\u001b[0m\u001b[0;34m\u001b[0m\u001b[0;34m\u001b[0m\u001b[0m\n\u001b[0m\u001b[1;32m      2\u001b[0m \u001b[0mtextgen\u001b[0m\u001b[0;34m.\u001b[0m\u001b[0mtrain_on_texts\u001b[0m\u001b[0;34m(\u001b[0m\u001b[0msource_sentences\u001b[0m\u001b[0;34m,\u001b[0m \u001b[0mnew_model\u001b[0m\u001b[0;34m=\u001b[0m\u001b[0;32mFalse\u001b[0m\u001b[0;34m,\u001b[0m \u001b[0mword_level\u001b[0m\u001b[0;34m=\u001b[0m\u001b[0;32mTrue\u001b[0m\u001b[0;34m,\u001b[0m \u001b[0mnum_epochs\u001b[0m \u001b[0;34m=\u001b[0m \u001b[0mmodel_config\u001b[0m\u001b[0;34m[\u001b[0m\u001b[0;34m'num_epochs'\u001b[0m\u001b[0;34m]\u001b[0m\u001b[0;34m,\u001b[0m \u001b[0mgen_epochs\u001b[0m \u001b[0;34m=\u001b[0m \u001b[0mmodel_config\u001b[0m\u001b[0;34m[\u001b[0m\u001b[0;34m'gen_epochs'\u001b[0m\u001b[0;34m]\u001b[0m\u001b[0;34m,\u001b[0m \u001b[0mmax_length\u001b[0m \u001b[0;34m=\u001b[0m \u001b[0mmodel_config\u001b[0m\u001b[0;34m[\u001b[0m\u001b[0;34m'max_length'\u001b[0m\u001b[0;34m]\u001b[0m\u001b[0;34m,\u001b[0m \u001b[0mmax_words\u001b[0m \u001b[0;34m=\u001b[0m \u001b[0mmodel_config\u001b[0m\u001b[0;34m[\u001b[0m\u001b[0;34m'max_words'\u001b[0m\u001b[0;34m]\u001b[0m\u001b[0;34m,\u001b[0m \u001b[0mtrain_size\u001b[0m \u001b[0;34m=\u001b[0m \u001b[0mmodel_config\u001b[0m\u001b[0;34m[\u001b[0m\u001b[0;34m'train_size'\u001b[0m\u001b[0;34m]\u001b[0m\u001b[0;34m,\u001b[0m \u001b[0mdropout\u001b[0m \u001b[0;34m=\u001b[0m \u001b[0mmodel_config\u001b[0m\u001b[0;34m[\u001b[0m\u001b[0;34m'dropout'\u001b[0m\u001b[0;34m]\u001b[0m\u001b[0;34m)\u001b[0m\u001b[0;34m\u001b[0m\u001b[0;34m\u001b[0m\u001b[0m\n\u001b[1;32m      3\u001b[0m \u001b[0mtextgen\u001b[0m\u001b[0;34m.\u001b[0m\u001b[0msave\u001b[0m\u001b[0;34m(\u001b[0m\u001b[0mmodel_name\u001b[0m\u001b[0;34m+\u001b[0m\u001b[0;34m\"_weights.hdf5\"\u001b[0m\u001b[0;34m)\u001b[0m\u001b[0;34m\u001b[0m\u001b[0;34m\u001b[0m\u001b[0m\n",
            "\u001b[0;31mNameError\u001b[0m: name 'textgenrnn' is not defined"
          ]
        }
      ]
    }
  ]
}